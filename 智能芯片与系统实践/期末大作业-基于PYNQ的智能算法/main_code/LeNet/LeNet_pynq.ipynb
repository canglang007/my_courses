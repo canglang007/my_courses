{
 "cells": [
  {
   "cell_type": "code",
   "execution_count": 2,
   "metadata": {},
   "outputs": [],
   "source": [
    "# 导入Overlay\n",
    "from pynq import Overlay\n",
    "ol = Overlay('/home/xilinx/pynq/overlays/lenet/py_hw/lenet.bit')\n",
    "ol.is_loaded()\n",
    "lenet=ol.LeNet_PYNQ_0\n",
    "#help(enet. write)"
   ]
  },
  {
   "cell_type": "code",
   "execution_count": 3,
   "metadata": {},
   "outputs": [],
   "source": [
    "import numpy as np\n",
    "from pynq import Xlnk\n",
    "from pynq import MMIO\n",
    "import cv2\n",
    "from matplotlib import pyplot as plt"
   ]
  },
  {
   "cell_type": "code",
   "execution_count": 4,
   "metadata": {},
   "outputs": [],
   "source": [
    "\n",
    "# 定义一个函数，用于运行LeNet模型\n",
    "def Runlenet(lenet,img_in, out):\n",
    "    # 这里寄存器地址改为自己的寄存器的地址\n",
    "\n",
    "    \n",
    "    lenet.write(0x10,img_in.physical_address)\n",
    "    \n",
    "    lenet.write(0x18, out.physical_address)\n",
    "\n",
    "    lenet.write(0,(lenet.read(0)&0x80)|0x01);\n",
    "    tp=lenet.read(0)\n",
    "    # 当tp的低位与1进行按位与运算的结果为0时，循环执行\n",
    "    while not((tp>>1)&0x1):\n",
    "        # 读取lenet的0寄存器的值\n",
    "        tp=lenet.read(0);"
   ]
  },
  {
   "cell_type": "code",
   "execution_count": 5,
   "metadata": {},
   "outputs": [],
   "source": [
    "# 定义一个函数test_conv2d_nhwc_nchw，用于测试卷积函数\n",
    "xlnk=Xlnk()\n",
    "# 创建一个Xlnk对象\n",
    "img=xlnk.cma_array(shape=(28,28),cacheable=0, dtype=np. float32)\n",
    "# 创建一个大小为(28,28)的float32类型的cma_array\n",
    "out=xlnk.cma_array(shape=(10),cacheable=0, dtype=np.float32)"
   ]
  },
  {
   "cell_type": "code",
   "execution_count": 11,
   "metadata": {},
   "outputs": [],
   "source": [
    "# 读入图像\n",
    "image = cv2.imread(\"2.png\",0).astype(np.float32)\n"
   ]
  },
  {
   "cell_type": "code",
   "execution_count": 15,
   "metadata": {},
   "outputs": [
    {
     "name": "stdout",
     "output_type": "stream",
     "text": [
      "Hardware run finish\n",
      "The number you write is 2\n"
     ]
    },
    {
     "data": {
      "image/png": "[encoded data removed]",
      "text/plain": [
       "<matplotlib.figure.Figure at 0xa3a52f90>"
      ]
     },
     "metadata": {},
     "output_type": "display_data"
    }
   ],
   "source": [
    "# 读入像素值\n",
    "for i in range(28):\n",
    "    for j in range(28):\n",
    "        img[i][j]=image[i][j]\n",
    "\n",
    "Runlenet(lenet,img,out)\n",
    "print(\"Hardware run finish\")\n",
    "MAX=0\n",
    "result=0\n",
    "for i in range(10):\n",
    "    if(out[i]>MAX):\n",
    "        MAX=out[i]\n",
    "        result=i\n",
    "# 显示图像与检测结果\n",
    "print(\"The number you write is \"+str(result))\n",
    "plt.imshow(image,\"gray\")\n",
    "plt.show()\n"
   ]
  },
  {
   "cell_type": "code",
   "execution_count": null,
   "metadata": {},
   "outputs": [],
   "source": []
  },
  {
   "cell_type": "code",
   "execution_count": null,
   "metadata": {},
   "outputs": [],
   "source": []
  }
 ],
 "metadata": {
  "kernelspec": {
   "display_name": "Python 3",
   "language": "python",
   "name": "python3"
  },
  "language_info": {
   "codemirror_mode": {
    "name": "ipython",
    "version": 3
   },
   "file_extension": ".py",
   "mimetype": "text/x-python",
   "name": "python",
   "nbconvert_exporter": "python",
   "pygments_lexer": "ipython3",
   "version": "3.6.5"
  }
 },
 "nbformat": 4,
 "nbformat_minor": 2
}
