{
 "cells": [
  {
   "cell_type": "code",
   "execution_count": null,
   "metadata": {},
   "outputs": [],
   "source": [
    "import socket\n",
    "import threading\n",
    "import struct\n",
    "import time\n",
    "import cv2\n",
    "import numpy\n",
    " \n",
    "# 用于检测的类\n",
    "class Carame_Accept_Object:\n",
    "    def __init__(self, S_addr_port=(\"\", 8880)):\n",
    "        # 设置分辨率\n",
    "        self.resolution = (640, 480)\n",
    "        self.img_fps = 20  # 每秒传输帧数\n",
    "        self.addr_port = S_addr_port\n",
    "        self.Set_Socket(self.addr_port)\n",
    " \n",
    "    # 设置socket\n",
    "    def Set_Socket(self, S_addr_port):\n",
    "        self.server = socket.socket(socket.AF_INET, socket.SOCK_STREAM)\n",
    "        self.server.setsockopt(socket.SOL_SOCKET, socket.SO_REUSEADDR, 1)  # 端口可复用\n",
    "        self.server.bind(S_addr_port)\n",
    "        self.server.listen(5)\n",
    "        # print(\"the process work in the port:%d\" % S_addr_port[1])\n",
    " \n",
    "def check_option(object, client):\n",
    "    # 按格式解码，确定帧数和分辨率\n",
    "    info = struct.unpack('lhh', client.recv(8))\n",
    "    if info[0] > 888:\n",
    "        object.img_fps = int(info[0]) - 888  # 获取帧数\n",
    "        object.resolution = list(object.resolution)\n",
    "        # 获取分辨率\n",
    "        object.resolution[0] = info[1]\n",
    "        object.resolution[1] = info[2]\n",
    "        object.resolution = tuple(object.resolution)\n",
    "        return 1\n",
    "    else:\n",
    "        return 0\n",
    "# 关键检测的函数 \n",
    "def RT_Image(object, client, D_addr):\n",
    "    if (check_option(object, client) == 0):\n",
    "        return\n",
    "    camera = cv2.VideoCapture(0)  # 从摄像头中获取视频\n",
    "    img_param = [int(cv2.IMWRITE_JPEG_QUALITY), object.img_fps]  # 设置传送图像格式、帧数\n",
    "    while (1):\n",
    "        time.sleep(0.1)  # 推迟线程运行0.1s\n",
    "        _, object.img = camera.read()  # 读取视频每一帧\n",
    " \n",
    "\n",
    "        np_frame = object.img\n",
    "\n",
    "        # 加载级联分类器\n",
    "        # 加载opencv的接口，这里是face和eye的接口\n",
    "        face_cascade = cv2.CascadeClassifier(\n",
    "            '/home/xilinx/jupyter_notebooks/base/video/data/'\n",
    "            'haarcascade_frontalface_default.xml')\n",
    "        eye_cascade = cv2.CascadeClassifier(\n",
    "            '/home/xilinx/jupyter_notebooks/base/video/data/'\n",
    "            'haarcascade_eye_tree_eyeglasses.xml')\n",
    " \n",
    "        # 将图像转换为灰度图\n",
    "        gray = cv2.cvtColor(np_frame, cv2.COLOR_BGR2GRAY)\n",
    "        # 使用级联分类器检测人脸\n",
    "        faces = face_cascade.detectMultiScale(gray, 1.3, 5)\n",
    " \n",
    "        # 遍历检测到的人脸\n",
    "        for (x, y, w, h) in faces:\n",
    "            # 在原图像上绘制矩形框\n",
    "            cv2.rectangle(np_frame, (x, y), (x + w, y + h), (255, 0, 0), 2)\n",
    "            # 获取人脸区域\n",
    "            roi_gray = gray[y:y + h, x:x + w]\n",
    "            roi_color = np_frame[y:y + h, x:x + w]\n",
    " \n",
    "            # 使用级联分类器检测眼睛\n",
    "            eyes = eye_cascade.detectMultiScale(roi_gray)\n",
    "            # 遍历检测到的眼睛\n",
    "            for (ex, ey, ew, eh) in eyes:\n",
    "                # 在人脸区域上绘制矩形框\n",
    "               cv2.rectangle(roi_color, (ex, ey), (ex + ew, ey + eh), (0, 255, 0), 2)\n",
    "        object.img = cv2.resize(object.img, object.resolution)  # 按要求调整图像大小(resolution必须为元组)\n",
    "        _, img_encode = cv2.imencode('.jpg', object.img, img_param)  # 按格式生成图片\n",
    "        img_code = numpy.array(img_encode)  # 转换成矩阵\n",
    "        object.img_data = img_code.tostring()  # 生成相应的字符串\n",
    "        try:\n",
    "\n",
    "            client.send(\n",
    "                struct.pack(\"lhh\", len(object.img_data), object.resolution[0], object.resolution[1]) + object.img_data)\n",
    "        except:\n",
    "            camera.release()  \n",
    "            return\n",
    " \n",
    "if __name__ == '__main__':\n",
    "    camera = Carame_Accept_Object()\n",
    "    # 循环接收\n",
    "    while (1):\n",
    "        client, D_addr = camera.server.accept()\n",
    "        clientThread = threading.Thread(None, target=RT_Image, args=(camera, client, D_addr,))\n",
    "        clientThread.start()"
   ]
  },
  {
   "cell_type": "code",
   "execution_count": 2,
   "metadata": {},
   "outputs": [
    {
     "name": "stdout",
     "output_type": "stream",
     "text": [
      "/home/xilinx/jupyter_notebooks\n"
     ]
    }
   ],
   "source": [
    "import os\n",
    "print(os.path.abspath('.'))"
   ]
  },
  {
   "cell_type": "code",
   "execution_count": null,
   "metadata": {},
   "outputs": [
    {
     "name": "stdout",
     "output_type": "stream",
     "text": [
      "Collecting pandas\n",
      "  Using cached pandas-1.1.5.tar.gz (5.2 MB)\n",
      "  Installing build dependencies ... \u001b[?25l-"
     ]
    }
   ],
   "source": [
    "!pip install pandas"
   ]
  },
  {
   "cell_type": "code",
   "execution_count": null,
   "metadata": {},
   "outputs": [],
   "source": []
  }
 ],
 "metadata": {
  "kernelspec": {
   "display_name": "Python 3",
   "language": "python",
   "name": "python3"
  },
  "language_info": {
   "codemirror_mode": {
    "name": "ipython",
    "version": 3
   },
   "file_extension": ".py",
   "mimetype": "text/x-python",
   "name": "python",
   "nbconvert_exporter": "python",
   "pygments_lexer": "ipython3",
   "version": "3.6.9"
  }
 },
 "nbformat": 4,
 "nbformat_minor": 2
}
