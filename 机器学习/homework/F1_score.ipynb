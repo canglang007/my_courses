{
 "cells": [
  {
   "cell_type": "code",
   "execution_count": 2,
   "metadata": {
    "ExecuteTime": {
     "end_time": "2024-06-05T07:34:22.518205Z",
     "start_time": "2024-06-05T07:34:22.502002Z"
    },
    "tags": []
   },
   "outputs": [],
   "source": [
    "import pandas as pd\n",
    "y_true_file = \"val_groundtruth.csv\"\n",
    "y_pred_file = \"val_pred.csv\"\n",
    "\n",
    "y_true_df = pd.read_csv(y_true_file, header = 0, delimiter = \",\")\n",
    "y_pred_df = pd.read_csv(y_pred_file, header = 0, delimiter = \",\")"
   ]
  },
  {
   "cell_type": "code",
   "execution_count": 3,
   "metadata": {
    "ExecuteTime": {
     "end_time": "2024-06-05T07:34:24.177812Z",
     "start_time": "2024-06-05T07:34:24.170805Z"
    },
    "tags": []
   },
   "outputs": [],
   "source": [
    "y_true = y_true_df.y.tolist()\n",
    "y_pred = y_pred_df.y.tolist()"
   ]
  },
  {
   "cell_type": "code",
   "execution_count": 4,
   "metadata": {
    "ExecuteTime": {
     "end_time": "2024-06-05T07:34:38.400230Z",
     "start_time": "2024-06-05T07:34:27.140935Z"
    },
    "tags": []
   },
   "outputs": [
    {
     "data": {
      "text/plain": [
       "0.8307997074257385"
      ]
     },
     "execution_count": 4,
     "metadata": {},
     "output_type": "execute_result"
    }
   ],
   "source": [
    "from sklearn.metrics import f1_score\n",
    "f1_score(\n",
    "        y_true, \n",
    "        y_pred,\n",
    "        labels=[\"yes\",\"no\"],\n",
    "        average='macro'\n",
    ")"
   ]
  },
  {
   "cell_type": "code",
   "execution_count": null,
   "metadata": {},
   "outputs": [],
   "source": []
  }
 ],
 "metadata": {
  "kernelspec": {
   "display_name": "Python 3 (ipykernel)",
   "language": "python",
   "name": "python3"
  },
  "language_info": {
   "codemirror_mode": {
    "name": "ipython",
    "version": 3
   },
   "file_extension": ".py",
   "mimetype": "text/x-python",
   "name": "python",
   "nbconvert_exporter": "python",
   "pygments_lexer": "ipython3",
   "version": "3.8.10"
  }
 },
 "nbformat": 4,
 "nbformat_minor": 4
}
